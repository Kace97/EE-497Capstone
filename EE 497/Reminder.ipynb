{
 "cells": [
  {
   "cell_type": "code",
   "execution_count": null,
   "metadata": {},
   "outputs": [
    {
     "name": "stdout",
     "output_type": "stream",
     "text": [
      "_____Birthday Adder_____\n",
      "\n",
      "1.Show Birthday\n",
      "2.Add to Birthday list\n",
      "3.Exit\n",
      "Enter the choice\n",
      "1\n",
      "Nothing to show\n",
      "_____Birthday Adder_____\n",
      "\n",
      "1.Show Birthday\n",
      "2.Add to Birthday list\n",
      "3.Exit\n",
      "Enter the choice\n",
      "2\n",
      "Enter Namec\n",
      "Enter Birthdate1005\n",
      "Birthday Added\n",
      "_____Birthday Adder_____\n",
      "\n",
      "1.Show Birthday\n",
      "2.Add to Birthday list\n",
      "3.Exit\n"
     ]
    }
   ],
   "source": [
    "Dict={} #We have declared a dictionary to store birthday.\n",
    "#Run loop till the user wants.\n",
    "while True:\n",
    "  print (\"_____Birthday Adder_____\\n\")\n",
    "  print (\"1.Show Birthday\")\n",
    "  print (\"2.Add to Birthday list\")\n",
    "  print (\"3.Exit\")\n",
    "  choice = int(input(\"Enter the choice\\n\"))\n",
    "  if choice == 1:\n",
    "      if len(Dict) == 0: #If no data in dictionary\n",
    "          print(\"Nothing to show\")\n",
    "      else : #If data is there ask him whose data he want\n",
    "        name = input(\"Enter name to look for birthday\")\n",
    "        birthday = Dict.get(name,\"No data found\")\n",
    "        print (birthday)\n",
    "  elif choice == 2:  #If he want to add user data let him add in dictionary as key-value pair.\n",
    "      name = input (\"Enter Name\")\n",
    "      date = input (\"Enter Birthdate\")\n",
    "      Dict[name] = date\n",
    "      print (\"Birthday Added\")\n",
    "  elif choice == 3: #close program\n",
    "      print(\"======Exiting program========\")\n",
    "      break\n",
    "  else: #if he has chosen none of above input plese ask him to chose valid option\n",
    "      print(\"Choose a valid option\")"
   ]
  },
  {
   "cell_type": "code",
   "execution_count": 1,
   "metadata": {},
   "outputs": [
    {
     "ename": "SyntaxError",
     "evalue": "invalid syntax (<ipython-input-1-1456e912627f>, line 8)",
     "output_type": "error",
     "traceback": [
      "\u001b[1;36m  File \u001b[1;32m\"<ipython-input-1-1456e912627f>\"\u001b[1;36m, line \u001b[1;32m8\u001b[0m\n\u001b[1;33m    birthdayFile =\u001b[0m\n\u001b[1;37m                   ^\u001b[0m\n\u001b[1;31mSyntaxError\u001b[0m\u001b[1;31m:\u001b[0m invalid syntax\n"
     ]
    }
   ],
   "source": [
    "\n",
    "# Python program for birthday reminder application\n",
    "# time module is must as reminder is set with the help of dates\n",
    "import time\n",
    "# os module is used to notify user\n",
    "# using default \"ubuntu notification\"\n",
    "import os\n",
    "\n",
    "birthdayFile = \n",
    "[[0712 Godfrey Atima],\n",
    "[0715 Jane Doe],\n",
    "[0910 John Doe],\n",
    "[0712 James Wood]]\n",
    "\n",
    "def checkTodaysBirthdays():\n",
    "\tfileName = open(birthdayFile, 'r')\n",
    "\ttoday = time.strftime('%m%d')\n",
    "\tflag = 0\n",
    "\tfor line in fileName:\n",
    "\t\tif today in line:\n",
    "\t\t\tline = line.split(' ')\n",
    "\t\t\tflaf = 1\n",
    "\t\t\t# line [1] contains name and line [2] contains surname\n",
    "\t\t\tos.system('notify-send \"Birthdays Today: ' + line[1] + ' ' + line[2] + '\"')\n",
    "\tif flag == 0:\n",
    "\t\t\tos.system('notify-send \"No Birthdays Today!\"')\n",
    "\n",
    "if __name__ == '__main__':\n",
    "\tcheckTodaysBirthdays()"
   ]
  },
  {
   "cell_type": "code",
   "execution_count": 3,
   "metadata": {},
   "outputs": [
    {
     "name": "stdout",
     "output_type": "stream",
     "text": [
      "C:\\Users\\Colin\\EE 497\n"
     ]
    }
   ],
   "source": [
    "import os\n",
    "\n",
    "print(os.getcwd())"
   ]
  },
  {
   "cell_type": "code",
   "execution_count": null,
   "metadata": {},
   "outputs": [],
   "source": []
  }
 ],
 "metadata": {
  "kernelspec": {
   "display_name": "Python 3",
   "language": "python",
   "name": "python3"
  },
  "language_info": {
   "codemirror_mode": {
    "name": "ipython",
    "version": 3
   },
   "file_extension": ".py",
   "mimetype": "text/x-python",
   "name": "python",
   "nbconvert_exporter": "python",
   "pygments_lexer": "ipython3",
   "version": "3.7.3"
  }
 },
 "nbformat": 4,
 "nbformat_minor": 2
}
